{
  "nbformat": 4,
  "nbformat_minor": 0,
  "metadata": {
    "colab": {
      "name": "pablo_pena_ml_exercise",
      "provenance": [],
      "collapsed_sections": []
    },
    "kernelspec": {
      "name": "python3",
      "display_name": "Python 3"
    },
    "language_info": {
      "name": "python"
    }
  },
  "cells": [
    {
      "cell_type": "markdown",
      "metadata": {
        "id": "KqZytvRB5D_E"
      },
      "source": [
        "Leer los datos marketing_campaing.csv y realizar una segmentacion\n",
        "de sus clientes basados en almenos 4 atributos. Realizar un perfilado y justificar con datos y graficos cada clister\n",
        "Estos datos pertenecen a caracteriscitacs cualitativas de los clientes que mas engagement tienen con un un portal web\n",
        "Este portal quiere saber como adaptar mejor sus productos y servicisio a sus mejores \n",
        "cleintes para incentivar que sigan ligaos a la compañia y enternder mejor sus guistos y su tipo de vinculacion\n",
        "\n",
        "\n",
        "### Attributes\n",
        "\n",
        "#### People\n",
        "ID: Customer's unique identifier <br>\n",
        "Year_Birth: Customer's birth year <br>\n",
        "Education: Customer's education level <br>\n",
        "Marital_Status: Customer's marital status <br>\n",
        "Income: Customer's yearly household income <br>\n",
        "Kidhome: Number of children in customer's household <br>\n",
        "Teenhome: Number of teenagers in customer's household <br>\n",
        "Dt_Customer: Date of customer's enrollment with the company <br>\n",
        "Recency: Number of days since customer's last purchase <br>\n",
        "Complain: 1 if customer complained in the last 2 years, 0 otherwise <br>\n",
        "\n",
        "#### Products\n",
        "MntWines: Amount spent on wine in last 2 years <br>\n",
        "MntFruits: Amount spent on fruits in last 2 years<br>\n",
        "MntMeatProducts: Amount spent on meat in last 2 years<br>\n",
        "MntFishProducts: Amount spent on fish in last 2 years<br>\n",
        "MntSweetProducts: Amount spent on sweets in last 2 years<br>\n",
        "MntGoldProds: Amount spent on gold in last 2 years<br>\n",
        "\n",
        "#### Promotion\n",
        "NumDealsPurchases: Number of purchases made with a discount<br>\n",
        "AcceptedCmp1: 1 if customer accepted the offer in the 1st campaign, 0 otherwise<br>\n",
        "AcceptedCmp2: 1 if customer accepted the offer in the 2nd campaign, 0 otherwise<br>\n",
        "AcceptedCmp3: 1 if customer accepted the offer in the 3rd campaign, 0 otherwise<br>\n",
        "AcceptedCmp4: 1 if customer accepted the offer in the 4th campaign, 0 otherwise<br>\n",
        "AcceptedCmp5: 1 if customer accepted the offer in the 5th campaign, 0 otherwise<br>\n",
        "Response: 1 if customer accepted the offer in the last campaign, 0 otherwise<br>\n",
        "\n",
        "#### Place\n",
        "NumWebPurchases: Number of purchases made through the company’s web site<br>\n",
        "NumCatalogPurchases: Number of purchases made using a catalogue<br>\n",
        "NumStorePurchases: Number of purchases made directly in stores<br>\n",
        "NumWebVisitsMonth: Number of visits to company’s web site in the last month<br>"
      ]
    },
    {
      "cell_type": "code",
      "metadata": {
        "id": "el84TAWJ5AYN"
      },
      "source": [
        "import pandas as pd \n",
        "import numpy as np\n",
        "import matplotlib\n",
        "import matplotlib.pyplot as plt\n",
        "import seaborn as sns\n",
        "import sklearn\n",
        "from sklearn import preprocessing\n",
        "from sklearn.cluster import KMeans"
      ],
      "execution_count": 1,
      "outputs": []
    },
    {
      "cell_type": "code",
      "metadata": {
        "id": "E29U80O15bdp"
      },
      "source": [
        "def tecnicaCodo(normalizedDataFrame):\n",
        "    distances = []\n",
        "    range_n_clusters = [2,3,4,5,6,7,8,9,10]\n",
        "    for n_cluster in range_n_clusters:\n",
        "        kmeans = KMeans(n_clusters=n_cluster, max_iter=10)\n",
        "        kmeans.fit(normalizedDataFrame)\n",
        "        distances.append(kmeans.inertia_)\n",
        "    plt.figure(figsize=(12,6))\n",
        "    fig, ax = plt.subplots()\n",
        "    ax.plot(distances)\n",
        "    plt.show()"
      ],
      "execution_count": 2,
      "outputs": []
    },
    {
      "cell_type": "code",
      "metadata": {
        "id": "RuyWZI6Z5c1g"
      },
      "source": [
        "data = pd.read_csv('./marketing_campaign.csv', sep='\\t')"
      ],
      "execution_count": 3,
      "outputs": []
    },
    {
      "cell_type": "code",
      "metadata": {
        "colab": {
          "base_uri": "https://localhost:8080/",
          "height": 899
        },
        "id": "dvrK_Zm65ldr",
        "outputId": "9ace5150-0b07-4052-fc2f-1f71ff52048e"
      },
      "source": [
        "# I will try to do a RMF\n",
        "# Recency is already given\n",
        "# Money can be calculated with different Mnt fields\n",
        "# Frecuency can be calculated with NumPurchases fields\n",
        "\n",
        "###\n",
        "#   DATA PREPARATION\n",
        "###\n",
        "\n",
        "subdata = data[['ID','Recency','MntWines', 'MntFruits','MntMeatProducts', 'MntFishProducts', 'MntSweetProducts','MntGoldProds','NumWebPurchases','NumCatalogPurchases', 'NumStorePurchases']]\n",
        "# moneyColumns = ['MntWines', 'MntFruits','MntMeatProducts', 'MntFishProducts', 'MntSweetProducts','MntGoldProds']\n",
        "# frecuencyColumns = ['NumWebPurchases','NumCatalogPurchases', 'NumStorePurchases']\n",
        "subdata['Money'] = subdata['MntWines'] + subdata['MntFruits'] + subdata['MntMeatProducts'] + subdata['MntFishProducts'] + subdata['MntSweetProducts'] + subdata['MntGoldProds'] \n",
        "subdata['Frecuency'] = subdata['NumWebPurchases'] + subdata['NumCatalogPurchases'] + subdata['NumStorePurchases']\n",
        "\n",
        "subdata = subdata[['ID','Recency','Money','Frecuency']]\n",
        "\n",
        "# Null check\n",
        "# print(\"null check\")\n",
        "# print(data.isna().sum())\n",
        "## Only Income has null values. I am not taking that column into account so it does not matter\n",
        "\n",
        "# Data intergrity\n",
        "#print(\"---subdata---\")\n",
        "#print(subdata.describe())\n",
        "# ---subdata---\n",
        "#                  ID      Recency        Money    Frecuency\n",
        "# count   2240.000000  2240.000000  2240.000000  2240.000000\n",
        "# mean    5592.159821    49.109375   605.798214    12.537054\n",
        "# std     3246.662198    28.962453   602.249288     7.205741\n",
        "# min        0.000000     0.000000     5.000000     0.000000\n",
        "# 25%     2828.250000    24.000000    68.750000     6.000000\n",
        "# 50%     5458.500000    49.000000   396.000000    12.000000\n",
        "# 75%     8427.750000    74.000000  1045.500000    18.000000\n",
        "# max    11191.000000    99.000000  2525.000000    32.000000\n",
        "\n",
        "# There are entries with 0 as its ID, recency and frecuency. That might not be good so I will take a look\n",
        "\n",
        "# >>> subdata[subdata['Frecuency']==0].shape \n",
        "# (6, 4)\n",
        "# >>> subdata[subdata['Recency']==0].shape\n",
        "# (28, 4)\n",
        "\n",
        "# We would have to ask bussiness if this is okay\n",
        "# Due to lack of time we are not going to try to fix the data\n",
        "\n",
        "# clip max Money spent\n",
        "subdata['Money'] = np.clip(subdata['Money'], 0, np.quantile(subdata['Money'], 0.95))\n",
        "\n",
        "plt.figure(figsize=(12,6))\n",
        "sns.boxplot(x=\"variable\", y=\"value\", data=pd.melt(subdata[['Recency', 'Money', 'Frecuency']]))\n",
        "plt.show()\n",
        "\n",
        "###\n",
        "#   NORMALIZE DATA\n",
        "###\n",
        "\n",
        "col_variables=['Recency','Money','Frecuency']\n",
        "scaler = preprocessing.StandardScaler()\n",
        "scaler.fit(subdata[col_variables])\n",
        "subdata_norm = scaler.transform(subdata[col_variables])\n",
        "subdata_norm = pd.DataFrame(subdata_norm)\n",
        "subdata_norm.columns = col_variables\n",
        "\n",
        "tecnicaCodo(subdata_norm)\n",
        "\n",
        "model = KMeans(n_clusters=3, max_iter=10)\n",
        "model.fit(subdata_norm)\n",
        "subdata['cluster'] = model.labels_"
      ],
      "execution_count": 23,
      "outputs": [
        {
          "output_type": "stream",
          "name": "stderr",
          "text": [
            "/usr/local/lib/python3.7/dist-packages/ipykernel_launcher.py:13: SettingWithCopyWarning: \n",
            "A value is trying to be set on a copy of a slice from a DataFrame.\n",
            "Try using .loc[row_indexer,col_indexer] = value instead\n",
            "\n",
            "See the caveats in the documentation: https://pandas.pydata.org/pandas-docs/stable/user_guide/indexing.html#returning-a-view-versus-a-copy\n",
            "  del sys.path[0]\n",
            "/usr/local/lib/python3.7/dist-packages/ipykernel_launcher.py:14: SettingWithCopyWarning: \n",
            "A value is trying to be set on a copy of a slice from a DataFrame.\n",
            "Try using .loc[row_indexer,col_indexer] = value instead\n",
            "\n",
            "See the caveats in the documentation: https://pandas.pydata.org/pandas-docs/stable/user_guide/indexing.html#returning-a-view-versus-a-copy\n",
            "  \n"
          ]
        },
        {
          "output_type": "display_data",
          "data": {
            "image/png": "[encoded data removed]",
            "text/plain": [
              "<Figure size 864x432 with 1 Axes>"
            ]
          },
          "metadata": {
            "needs_background": "light"
          }
        },
        {
          "output_type": "display_data",
          "data": {
            "text/plain": [
              "<Figure size 864x432 with 0 Axes>"
            ]
          },
          "metadata": {}
        },
        {
          "output_type": "display_data",
          "data": {
            "image/png": "[encoded data removed]",
            "text/plain": [
              "<Figure size 432x288 with 1 Axes>"
            ]
          },
          "metadata": {
            "needs_background": "light"
          }
        }
      ]
    },
    {
      "cell_type": "markdown",
      "metadata": {
        "id": "XTDIpLTm5xmi"
      },
      "source": [
        "# Recency"
      ]
    },
    {
      "cell_type": "code",
      "metadata": {
        "colab": {
          "base_uri": "https://localhost:8080/",
          "height": 388
        },
        "id": "5SepZaTc504N",
        "outputId": "a3823644-1308-4635-ca08-8ded90f46247"
      },
      "source": [
        "plt.figure(figsize=(12,6))\n",
        "sns.boxplot(x='cluster',y='Recency',data=subdata)\n",
        "plt.show()"
      ],
      "execution_count": 24,
      "outputs": [
        {
          "output_type": "display_data",
          "data": {
            "image/png": "[encoded data removed]",
            "text/plain": [
              "<Figure size 864x432 with 1 Axes>"
            ]
          },
          "metadata": {
            "needs_background": "light"
          }
        }
      ]
    },
    {
      "cell_type": "markdown",
      "metadata": {
        "id": "M4OqKKeu7-Rb"
      },
      "source": [
        "# Money"
      ]
    },
    {
      "cell_type": "code",
      "metadata": {
        "colab": {
          "base_uri": "https://localhost:8080/",
          "height": 388
        },
        "id": "ZiVkTaxF7-Rh",
        "outputId": "3dc7cee0-476c-41a9-e979-9c60340e6fe4"
      },
      "source": [
        "plt.figure(figsize=(12,6))\n",
        "sns.boxplot(x='cluster',y='Money',data=subdata)\n",
        "plt.show()"
      ],
      "execution_count": 25,
      "outputs": [
        {
          "output_type": "display_data",
          "data": {
            "image/png": "[encoded data removed]",
            "text/plain": [
              "<Figure size 864x432 with 1 Axes>"
            ]
          },
          "metadata": {
            "needs_background": "light"
          }
        }
      ]
    },
    {
      "cell_type": "markdown",
      "metadata": {
        "id": "TjwnCEBJ7-4i"
      },
      "source": [
        "# Frecuency"
      ]
    },
    {
      "cell_type": "code",
      "metadata": {
        "colab": {
          "base_uri": "https://localhost:8080/",
          "height": 388
        },
        "id": "FWzDn9AL7-4m",
        "outputId": "ba41153b-b27b-4310-bf48-cf34aeffcc46"
      },
      "source": [
        "plt.figure(figsize=(12,6))\n",
        "sns.boxplot(x='cluster',y='Frecuency',data=subdata)\n",
        "plt.show()"
      ],
      "execution_count": 26,
      "outputs": [
        {
          "output_type": "display_data",
          "data": {
            "image/png": "[encoded data removed]",
            "text/plain": [
              "<Figure size 864x432 with 1 Axes>"
            ]
          },
          "metadata": {
            "needs_background": "light"
          }
        }
      ]
    }
  ]
}